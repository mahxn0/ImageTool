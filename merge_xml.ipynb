{
 "cells": [
  {
   "cell_type": "code",
   "execution_count": 2,
   "metadata": {},
   "outputs": [
    {
     "data": {
      "text/plain": [
       "<Element 'annotation' at 0x7ff83f6c04f8>"
      ]
     },
     "execution_count": 2,
     "metadata": {},
     "output_type": "execute_result"
    }
   ],
   "source": [
    "from xml.etree.ElementTree import ElementTree,Element\n",
    "tree=ElementTree()\n",
    "tree.parse(\"/media/mahxn0/DATA/dataset/helmet_hand_data/shanxi_data/test/wh-1000-35678tgy.xml\")"
   ]
  },
  {
   "cell_type": "code",
   "execution_count": 3,
   "metadata": {
    "collapsed": true
   },
   "outputs": [],
   "source": [
    "def prettyXml(element, indent, newline, level=0):  # elemnt为传进来的Elment类，参数indent用于缩进，newline用于换行\n",
    "    if element:  # 判断element是否有子元素\n",
    "        if element.text == None or element.text.isspace():  # 如果element的text没有内容\n",
    "            element.text = newline + indent * (level + 1)\n",
    "        else:\n",
    "            element.text = newline + indent * (level + 1) + element.text.strip() + newline + indent * (level + 1)\n",
    "            # else:  # 此处两行如果把注释去掉，Element的text也会另起一行\n",
    "        # element.text = newline + indent * (level + 1) + element.text.strip() + newline + indent * level\n",
    "    temp = list(element)  # 将elemnt转成list\n",
    "    for subelement in temp:\n",
    "        if temp.index(subelement) < (len(temp) - 1):  # 如果不是list的最后一个元素，说明下一个行是同级别元素的起始，缩进应一致\n",
    "            subelement.tail = newline + indent * (level + 1)\n",
    "        else:  # 如果是list的最后一个元素， 说明下一行是母元素的结束，缩进应该少一个\n",
    "            subelement.tail = newline + indent * level\n",
    "        prettyXml(subelement, indent, newline, level=level + 1)  # 对子元素进行递归操作"
   ]
  },
  {
   "cell_type": "code",
   "execution_count": 5,
   "metadata": {},
   "outputs": [],
   "source": [
    "root=tree.getroot()\n",
    "element=Element('object')\n",
    "a=Element('name')\n",
    "a1=Element('pose')\n",
    "a2=Element('truncated')\n",
    "a3=Element('Difficult')\n",
    "a1.text='Unspecified'\n",
    "a2.text='0'\n",
    "a3.text='0'\n",
    "b=Element('bndbox')\n",
    "one=Element('xmin')\n",
    "two=Element('xmax')\n",
    "three=Element('ymin')\n",
    "four=Element('ymax')\n",
    "a.text='hand'\n",
    "one.text='100'#二级目录的值 #结果展示：<id>1</id>\n",
    "two.text='800'\n",
    "three.text='100'\n",
    "four.text='800'\n",
    "b.append(one)\n",
    "b.append(two)\n",
    "b.append(three)\n",
    "b.append(four)\n",
    "element.append(a)#将二级目录加到一级目录里\n",
    "element.append(a1)\n",
    "element.append(a2)\n",
    "element.append(a3)\n",
    "element.append(b)\n",
    "root.append(element)\n",
    "prettyXml(root, '\\t', '\\n')\n",
    "tree.write(\"/media/mahxn0/DATA/dataset/helmet_hand_data/shanxi_data/test/wh-1000-35678tgy.xml\",encoding='utf-8',xml_declaration=True)"
   ]
  },
  {
   "cell_type": "code",
   "execution_count": 4,
   "metadata": {},
   "outputs": [
    {
     "data": {
      "text/plain": [
       "'\\n'"
      ]
     },
     "execution_count": 4,
     "metadata": {},
     "output_type": "execute_result"
    }
   ],
   "source": []
  },
  {
   "cell_type": "code",
   "execution_count": null,
   "metadata": {
    "collapsed": true
   },
   "outputs": [],
   "source": []
  }
 ],
 "metadata": {
  "kernelspec": {
   "display_name": "Python 3",
   "language": "python",
   "name": "python3"
  },
  "language_info": {
   "codemirror_mode": {
    "name": "ipython",
    "version": 3
   },
   "file_extension": ".py",
   "mimetype": "text/x-python",
   "name": "python",
   "nbconvert_exporter": "python",
   "pygments_lexer": "ipython3",
   "version": "3.6.2"
  }
 },
 "nbformat": 4,
 "nbformat_minor": 2
}
